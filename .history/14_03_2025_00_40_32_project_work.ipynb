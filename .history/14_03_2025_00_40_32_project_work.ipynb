{
 "cells": [
  {
   "cell_type": "code",
   "execution_count": null,
   "id": "5a92e55a-66eb-445f-ada4-a571a1797204",
   "metadata": {},
   "outputs": [],
   "source": [
    "#library load ins:\n",
    "library(tidyverse)\n",
    "\n",
    "#data reading libraries\n",
    "library(dbplyr)\n",
    "library(rvest)\n",
    "\n",
    "#data visualization libraries\n",
    "library(tidymodels)\n",
    "library(lubridate)\n",
    "library(scales)\n",
    "library(RColorBrewer)\n",
    "\n",
    "#data classification libraries"
   ]
  },
  {
   "cell_type": "markdown",
   "id": "47add03d-bda8-48a4-bb8b-7c5cc7072b71",
   "metadata": {},
   "source": [
    "## 1. Data Description:\n",
    "\n",
    "This semester our DSCI-100 course has the fortunate opportunity of getting to work with two real and unique data sets provided by Frank Wood’s computer science research team. Each data set, labeled `players_data` and `sessions_data` respectively, contains distinct information on individual player characteristics and statistics on gaming habits while playing on the research team’s custom MineCraft server. Information was collected for `players_data` during each user’s sign-up and was also updated in the `played_hours` column as users continued to log more hours on the server. `sessions_data` has also been updated dynamically throughout the server’s lifespan and consists of the login and log out information for each user. \n",
    "\n",
    "Please see a glimpse of each data set in the following cell below:"
   ]
  },
  {
   "cell_type": "code",
   "execution_count": null,
   "id": "55dd1bad-33ab-47f6-a2f6-96c2fc8a17fe",
   "metadata": {},
   "outputs": [],
   "source": [
    "#reading in raw data urls\n",
    "url_players <- 'https://raw.githubusercontent.com/rjmc2006/individual_project_portion_dsci100/refs/heads/main/players.csv'\n",
    "url_sessions <- 'https://raw.githubusercontent.com/rjmc2006/individual_project_portion_dsci100/refs/heads/main/sessions.csv'\n",
    "\n",
    "players_data <- read_csv(url_players)\n",
    "sessions_data <- read_csv(url_sessions)\n",
    "\n",
    "head(players_data)\n",
    "head(sessions_data)"
   ]
  },
  {
   "cell_type": "markdown",
   "id": "43bc1d44-1b0c-40fd-84b3-c67bd520798a",
   "metadata": {},
   "source": [
    "`players_data` focuses more on storing a catalog of player characteristics within the following seven variables:\n",
    "\n",
    "1.\t`experience`: The level of experience the player has with MineCraft. Can either be one of Pro, Veteran, Regular, Amateur, or Beginner. Data type: character.\n",
    "2.\t`Subscribe`: Whether or not the user is subscribed to a game-related newsletter. Data type: logical. \n",
    "3.\t`hashedEmail`: Identifier for an individual participant in the server. Each user has a unique hashedEmail that crosses over to `sessions_data`. Data type: character.\n",
    "4.\t`played_hours`: Total number of hours a user has played on the server. Data type: double.\n",
    "5.\t`name`: First name of the user. Data type: character.\n",
    "6.\t`gender`: The gender of the user. Either Male, Female, Non-binary, Two-spirited, Agender, Other, or Prefer not to say. Data type: character.\n",
    "7.\t`Age`: The age of the user. Data type: double.\n",
    "\n",
    "Please find key summary statistics for `players_data` in the cell below:"
   ]
  },
  {
   "cell_type": "code",
   "execution_count": null,
   "id": "d23d7016-1d9b-4573-b77f-d7ecac7adf3a",
   "metadata": {},
   "outputs": [],
   "source": [
    "players_data_stats <- players_data |>\n",
    "    summarize(played_hours_max = max(played_hours, na.rm = TRUE), played_hours_min = min(played_hours, na.rm = TRUE), \n",
    "              played_hours_mean =mean(played_hours, na.rm = TRUE), Age_max = max(Age, na.rm = TRUE), Age_min = min(Age, na.rm = TRUE),\n",
    "             Age_mean = mean(Age, na.rm = TRUE), number_of_observations = nrow(players_data), total_hours_played = sum(played_hours))\n",
    "\n",
    "players_data_stats"
   ]
  },
  {
   "cell_type": "markdown",
   "id": "b224116b-4737-474b-9e4d-4c84d787472e",
   "metadata": {},
   "source": [
    "`sessions_data` logs each gaming session on the server within its five variables:\n",
    "\n",
    "1.\t`hashedEmail`: Same as the `hashedEmail` variable in `players_data`. Used to identify players. Data type: character.\n",
    "2.\t`start_time`: The start time of a gaming session by date in form day/month/year followed by the time of day the session started (in 24-hour clock). Data type: character.\n",
    "3.\t`end_time`: The end time of a gaming session by date in form day/month/year followed by the time of day the session ended (in 24-hour clock). Data type: character.\n",
    "4.\t`original_start_time`: Data type: double.\n",
    "5.\t`original_end_time`: Data type: double.\n",
    "\n",
    "Please find key summary statistics for `sessions_data` below:"
   ]
  },
  {
   "cell_type": "code",
   "execution_count": null,
   "id": "0ad1d50a-82c4-49db-bb00-9378127a9184",
   "metadata": {},
   "outputs": [],
   "source": [
    "players_sessions_stats <- sessions_data |>\n",
    "    separate(col =start_time, into = c('start_date', 'start_time'), sep = ' ') |>\n",
    "    separate(col =start_time, into = c('start_hour', 'start_min'), sep = ':') |>\n",
    "    separate(col =end_time, into = c('end_date', 'end_time'), sep = ' ') |>\n",
    "    separate(col =end_time, into = c('end_hour', 'end_min'), sep = ':') |> \n",
    "\n",
    "    mutate(start_hour = as.numeric(start_hour), start_min = as.numeric(start_min), \n",
    "        end_hour = as.numeric(end_hour), end_min = as.numeric(end_min), \n",
    "           session_length_in_mins = ((end_hour * 60 + end_min) - (start_hour * 60 + start_min))) #|>\n",
    "\n",
    "    # summarize(avg_start_hour = mean(start_hour), avg_end_hour = mean(end_hour), avg_session_length_in_mins = mean(session_length_in_mins), \n",
    "    # n(sessions_data))\n",
    "\n",
    "players_sessions_stats"
   ]
  },
  {
   "cell_type": "markdown",
   "id": "2e7ac3ae-7673-4412-82e2-c3c269197303",
   "metadata": {},
   "source": [
    "Within the data sets there are some initial problems I should point out. NA values are present in some cells within `players_data` which cause issues computing summary statistics along with creating key visualizations with our data. Additionally, `start_time` and `end_time` are untidy data and need to be widened to separate the date and time values in the variable. If they aren’t we won’t be able to manipulate those columns effectively.  \n",
    "\n",
    "Further along in my project …"
   ]
  },
  {
   "cell_type": "markdown",
   "id": "594fda4c-8f4c-46f9-930c-a3644636ac56",
   "metadata": {},
   "source": [
    "## 2. Questions:\n",
    "For the individual portion of my project, I’ve chosen the broad question: What player characteristics and behaviors are most predictive of subscribing to a game-related newsletter, and how do these features differ between various player types? \n",
    "\n",
    "With this in mind, I aim to answer the following specific question: Can the amount of total amount of hours played by a user along with their age predict whether or not they’re likely to subscribe to a MineCraft-related newsletter?\n",
    "\n",
    "To answer this question I can create a K nearest neighbors classifier model and use the `Age` and `played_hours` variables from `players_data` as my predicters with the `subscribe` variable as my classified observation. These columns won’t require much wrangling to feed into my `workflow()` only needing to be split into training and testing sets before building the model."
   ]
  },
  {
   "cell_type": "markdown",
   "id": "8db1ff6f-9b5b-46d2-bd5e-a9154ae7c6d8",
   "metadata": {},
   "source": [
    "## 3. Exploratory Data Analysis and Visualization:"
   ]
  },
  {
   "cell_type": "code",
   "execution_count": null,
   "id": "af976600-0434-472e-953d-580eb3c40e5e",
   "metadata": {},
   "outputs": [],
   "source": []
  }
 ],
 "metadata": {
  "kernelspec": {
   "display_name": "R",
   "language": "R",
   "name": "ir"
  },
  "language_info": {
   "codemirror_mode": "r",
   "file_extension": ".r",
   "mimetype": "text/x-r-source",
   "name": "R",
   "pygments_lexer": "r",
   "version": "4.3.3"
  }
 },
 "nbformat": 4,
 "nbformat_minor": 5
}
